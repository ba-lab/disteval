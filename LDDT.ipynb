{
 "cells": [
  {
   "cell_type": "code",
   "execution_count": 1,
   "metadata": {},
   "outputs": [],
   "source": [
    "import numpy as np\n",
    "from math import sqrt\n",
    "import os"
   ]
  },
  {
   "cell_type": "code",
   "execution_count": 2,
   "metadata": {},
   "outputs": [],
   "source": [
    "valid_amino_acids = {\n",
    "    'LLP': 'K', 'TPO': 'T', 'CSS': 'C', 'OCS': 'C', 'CSO': 'C', 'PCA': 'E', 'KCX': 'K', \\\n",
    "    'CME': 'C', 'MLY': 'K', 'SEP': 'S', 'CSX': 'C', 'CSD': 'C', 'MSE': 'M', \\\n",
    "    'ALA': 'A', 'ASN': 'N', 'CYS': 'C', 'GLN': 'Q', 'HIS': 'H', 'LEU': 'L', \\\n",
    "    'MET': 'M', 'MHO': 'M', 'PRO': 'P', 'THR': 'T', 'TYR': 'Y', 'ARG': 'R', 'ASP': 'D', \\\n",
    "    'GLU': 'E', 'GLY': 'G', 'ILE': 'I', 'LYS': 'K', 'PHE': 'F', 'SER': 'S', \\\n",
    "    'TRP': 'W', 'VAL': 'V', 'SEC': 'U'\n",
    "    }"
   ]
  },
  {
   "cell_type": "code",
   "execution_count": 3,
   "metadata": {},
   "outputs": [],
   "source": [
    "def check_pdb_valid_row(valid_amino_acids, l):\n",
    "    if (get_pdb_rname(l) in valid_amino_acids.keys()) and (l.startswith('ATOM') or l.startswith('HETA')):\n",
    "        return True\n",
    "    return False\n",
    "\n",
    "def get_pdb_atom_name(l):\n",
    "    return l[12: 16].strip()\n",
    "\n",
    "def get_pdb_rnum(l):\n",
    "    return int(l[22: 27].strip())\n",
    "\n",
    "def get_pdb_rname(l):\n",
    "    return l[17: 20].strip()\n",
    "\n",
    "def get_pdb_xyz_cb(lines):\n",
    "    xyz = {}\n",
    "    for l in lines:\n",
    "        if get_pdb_atom_name(l) == 'CB':\n",
    "            xyz[get_pdb_rnum(l)] = (float(l[30:38].strip()), float(l[38:46].strip()), float(l[46:54].strip()))\n",
    "    for l in lines:\n",
    "        if (get_pdb_rnum(l) not in xyz) and get_pdb_atom_name(l) == 'CA':\n",
    "            xyz[get_pdb_rnum(l)] = (float(l[30:38].strip()), float(l[38:46].strip()), float(l[46:54].strip()))\n",
    "    return xyz\n",
    "\n",
    "def get_pdb_xyz_ca(lines):\n",
    "    xyz = {}\n",
    "    for l in lines:\n",
    "        if get_pdb_atom_name(l) == 'CA':\n",
    "            xyz[get_pdb_rnum(l)] = (float(l[30:38].strip()), float(l[38:46].strip()), float(l[46:54].strip()))\n",
    "    return xyz"
   ]
  },
  {
   "cell_type": "code",
   "execution_count": 4,
   "metadata": {},
   "outputs": [],
   "source": [
    "def pdb2dmap(pdbfile):\n",
    "    f = open(pdbfile, mode = 'r')\n",
    "    flines = f.read()\n",
    "    f.close()\n",
    "    lines = flines.splitlines()\n",
    "    templines = flines.splitlines()\n",
    "    for l in templines:\n",
    "        if not l.startswith('ATOM'): lines.remove(l)\n",
    "    # We have filtered out all non ATOMs at this point\n",
    "    rnum_rnames = {}\n",
    "    for l in lines:\n",
    "        atom = get_pdb_atom_name(l)\n",
    "        if atom != 'CA': continue\n",
    "        if not get_pdb_rname(l) in valid_amino_acids.keys():\n",
    "            print ('' + get_pdb_rname(l) + ' is unknown amino acid in ' + l)\n",
    "            return\n",
    "        rnum_rnames[int(get_pdb_rnum(l))] = valid_amino_acids[get_pdb_rname(l)]\n",
    "    seq = \"\"\n",
    "    for i in range(max(rnum_rnames.keys())):\n",
    "        if i+1 not in rnum_rnames:\n",
    "            #print (rnum_rnames)\n",
    "            #print ('Warning! residue not defined for rnum = ' + str(i+1))\n",
    "            seq += '-'\n",
    "        else:\n",
    "            seq += rnum_rnames[i+1]\n",
    "    L = len(seq)\n",
    "    xyz_cb = get_pdb_xyz_cb(lines)\n",
    "    total_valid_residues = len(xyz_cb)\n",
    "    if len(xyz_cb) != L:\n",
    "        print(rnum_rnames)\n",
    "        for i in range(L):\n",
    "            if i+1 not in xyz_cb: print('XYZ not defined for ' + str(i+1))\n",
    "        print ('Warning! Something went wrong - len of cbxyz != seqlen!! ' + str(len(xyz_cb)) + ' ' +  str(L))\n",
    "    cb_map = np.full((L, L), np.nan)\n",
    "    for r1 in sorted(xyz_cb):\n",
    "        (a, b, c) = xyz_cb[r1]\n",
    "        for r2 in sorted(xyz_cb):\n",
    "            (p, q, r) = xyz_cb[r2]\n",
    "            cb_map[r1 - 1, r2 - 1] = sqrt((a-p)**2+(b-q)**2+(c-r)**2)\n",
    "    return (total_valid_residues, cb_map, rnum_rnames)"
   ]
  },
  {
   "cell_type": "markdown",
   "metadata": {},
   "source": [
    "# Open files"
   ]
  },
  {
   "cell_type": "markdown",
   "metadata": {},
   "source": [
    "## PDB files"
   ]
  },
  {
   "cell_type": "code",
   "execution_count": 5,
   "metadata": {},
   "outputs": [],
   "source": [
    "pdb_d = \"test\""
   ]
  },
  {
   "cell_type": "markdown",
   "metadata": {},
   "source": [
    "### True"
   ]
  },
  {
   "cell_type": "code",
   "execution_count": 6,
   "metadata": {},
   "outputs": [],
   "source": [
    "refer_pdb_f = \"1guuA.pdb\"\n",
    "refer_pdb_p = os.path.join(pdb_d, refer_pdb_f)\n",
    "ref_L, ref_dmap, ref_rnames = pdb2dmap(refer_pdb_p)"
   ]
  },
  {
   "cell_type": "markdown",
   "metadata": {},
   "source": [
    "### Predicted"
   ]
  },
  {
   "cell_type": "code",
   "execution_count": 7,
   "metadata": {},
   "outputs": [],
   "source": [
    "# model_pdb_f = \"\"\n",
    "# model_pdb_p = os.path.join(pdb_d, model_pdb_f)\n",
    "# mod_L, mod_dmap, mod_rnames = pdb2dmap(model_pdb_p)"
   ]
  },
  {
   "cell_type": "markdown",
   "metadata": {
    "scrolled": false
   },
   "source": [
    "## NPY files"
   ]
  },
  {
   "cell_type": "code",
   "execution_count": 8,
   "metadata": {},
   "outputs": [],
   "source": [
    "npy_d = \"test\""
   ]
  },
  {
   "cell_type": "markdown",
   "metadata": {},
   "source": [
    "### True"
   ]
  },
  {
   "cell_type": "code",
   "execution_count": 9,
   "metadata": {},
   "outputs": [],
   "source": [
    "# refer_npy_f = \"1guuA.true.npy\"\n",
    "# refer_npy_p = os.path.join(npy_d, refer_npy_f)\n",
    "# ref_dmap = np.load(refer_npy_p)\n",
    "# ref_dmap = np.squeeze(ref_dmap)"
   ]
  },
  {
   "cell_type": "markdown",
   "metadata": {},
   "source": [
    "### Predicted"
   ]
  },
  {
   "cell_type": "code",
   "execution_count": 10,
   "metadata": {},
   "outputs": [],
   "source": [
    "model_npy_f = \"1guuA.predicted.npy\"\n",
    "model_npy_p = os.path.join(npy_d, model_npy_f)\n",
    "mod_dmap = np.load(model_npy_p)\n",
    "mod_dmap = np.squeeze(mod_dmap)"
   ]
  },
  {
   "cell_type": "code",
   "execution_count": 11,
   "metadata": {},
   "outputs": [],
   "source": [
    "# Helpers for metrics calculated using numpy scheme\n",
    "def get_flattened(dmap):\n",
    "  if dmap.ndim == 1:\n",
    "    return dmap\n",
    "  elif dmap.ndim == 2:\n",
    "    return dmap[np.triu_indices_from(dmap, k=1)]\n",
    "  else:\n",
    "    assert False, \"ERROR: the passes array has dimension not equal to 2 or 1!\"\n",
    "\n",
    "def get_separations(dmap):\n",
    "  t_indices = np.triu_indices_from(dmap, k=1)\n",
    "  separations = np.abs(t_indices[0] - t_indices[1])\n",
    "  return separations\n",
    "  \n",
    "# return a 1D boolean array indicating where the sequence separation in the\n",
    "# upper triangle meets the threshold comparison\n",
    "def get_sep_thresh_b_indices(dmap, thresh, comparator):\n",
    "  assert comparator in {'gt', 'lt', 'ge', 'le'}, \"ERROR: Unknown comparator for thresholding!\"\n",
    "  dmap_flat = get_flattened(dmap)\n",
    "  separations = get_separations(dmap)\n",
    "  if comparator == 'gt':\n",
    "    threshed = separations > thresh\n",
    "  elif comparator == 'lt':\n",
    "    threshed = separations < thresh\n",
    "  elif comparator == 'ge':\n",
    "    threshed = separations >= thresh\n",
    "  elif comparator == 'le':\n",
    "    threshed = separations <= thresh\n",
    "\n",
    "  return threshed\n",
    "\n",
    "# return a 1D boolean array indicating where the distance in the\n",
    "# upper triangle meets the threshold comparison\n",
    "def get_dist_thresh_b_indices(dmap, thresh, comparator):\n",
    "  assert comparator in {'gt', 'lt', 'ge', 'le'}, \"ERROR: Unknown comparator for thresholding!\"\n",
    "  dmap_flat = get_flattened(dmap)\n",
    "  if comparator == 'gt':\n",
    "    threshed = dmap_flat > thresh\n",
    "  elif comparator == 'lt':\n",
    "    threshed = dmap_flat < thresh\n",
    "  elif comparator == 'ge':\n",
    "    threshed = dmap_flat >= thresh\n",
    "  elif comparator == 'le':\n",
    "    threshed = dmap_flat <= thresh\n",
    "  return threshed\n",
    "\n",
    "\n",
    "# Calculate lDDT using numpy scheme\n",
    "def get_LDDT(true_map, pred_map, R=15, sep_thresh=-1, T_set=[0.5, 1, 2, 4], precision=4):\n",
    "    '''\n",
    "    Mariani V, Biasini M, Barbato A, Schwede T.\n",
    "    lDDT: a local superposition-free score for comparing protein structures and models using distance difference tests.\n",
    "    Bioinformatics. 2013 Nov 1;29(21):2722-8.\n",
    "    doi: 10.1093/bioinformatics/btt473.\n",
    "    Epub 2013 Aug 27.\n",
    "    PMID: 23986568; PMCID: PMC3799472.\n",
    "    '''\n",
    "    \n",
    "    # Helper for number preserved in a threshold\n",
    "    def get_n_preserved(ref_flat, mod_flat, thresh):\n",
    "        err = np.abs(ref_flat - mod_flat)\n",
    "        n_preserved = (err < thresh).sum()\n",
    "        return n_preserved\n",
    "    \n",
    "    # flatten upper triangles\n",
    "    true_flat_map = get_flattened(true_map)\n",
    "    pred_flat_map = get_flattened(pred_map)\n",
    "    \n",
    "    # Find set L\n",
    "    S_thresh_indices = get_sep_thresh_b_indices(true_map, sep_thresh, 'gt')\n",
    "    R_thresh_indices = get_dist_thresh_b_indices(true_flat_map, R, 'lt')\n",
    "    \n",
    "    L_indices = S_thresh_indices & R_thresh_indices\n",
    "    \n",
    "    true_flat_in_L = true_flat_map[L_indices]\n",
    "    pred_flat_in_L = pred_flat_map[L_indices]\n",
    "    \n",
    "    # Number of pairs in L\n",
    "    L_n = L_indices.sum()\n",
    "    \n",
    "    # Calculated lDDT\n",
    "    preserved_fractions = []\n",
    "    for _thresh in T_set:\n",
    "        _n_preserved = get_n_preserved(true_flat_in_L, pred_flat_in_L, _thresh)\n",
    "        _f_preserved = _n_preserved / L_n\n",
    "        preserved_fractions.append(_f_preserved)\n",
    "        \n",
    "    lDDT = np.mean(preserved_fractions)\n",
    "    if precision > 0:\n",
    "        lDDT = round(lDDT, precision)\n",
    "    return lDDT"
   ]
  },
  {
   "cell_type": "code",
   "execution_count": 12,
   "metadata": {},
   "outputs": [
    {
     "data": {
      "text/plain": [
       "0.6872"
      ]
     },
     "execution_count": 12,
     "metadata": {},
     "output_type": "execute_result"
    }
   ],
   "source": [
    "get_LDDT(ref_dmap, mod_dmap)"
   ]
  }
 ],
 "metadata": {
  "kernelspec": {
   "display_name": "Python 3",
   "language": "python",
   "name": "python3"
  },
  "language_info": {
   "codemirror_mode": {
    "name": "ipython",
    "version": 3
   },
   "file_extension": ".py",
   "mimetype": "text/x-python",
   "name": "python",
   "nbconvert_exporter": "python",
   "pygments_lexer": "ipython3",
   "version": "3.6.9"
  }
 },
 "nbformat": 4,
 "nbformat_minor": 4
}
